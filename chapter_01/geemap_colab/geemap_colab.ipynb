{
 "cells": [
  {
   "cell_type": "markdown",
   "metadata": {
    "id": "3YfuzRi6yXzE"
   },
   "source": [
    "[![Open In Colab](https://colab.research.google.com/assets/colab-badge.svg)](https://colab.research.google.com/github/giswqs/geebook-code/blob/master/docs/chapter_01/geemap_colab.ipynb)"
   ]
  },
  {
   "cell_type": "markdown",
   "metadata": {
    "id": "caAZzvnSuwDi"
   },
   "source": [
    "## Install geemap"
   ]
  },
  {
   "cell_type": "code",
   "execution_count": null,
   "metadata": {
    "id": "d0wqNr5WXzLD"
   },
   "outputs": [],
   "source": [
    "!pip install geemap"
   ]
  },
  {
   "cell_type": "markdown",
   "metadata": {},
   "source": [
    "## Import libraries"
   ]
  },
  {
   "cell_type": "code",
   "execution_count": null,
   "metadata": {
    "id": "rA615jyCYE-z"
   },
   "outputs": [],
   "source": [
    "import ee\n",
    "import geemap"
   ]
  },
  {
   "cell_type": "markdown",
   "metadata": {
    "id": "bdWLuuJIwwas"
   },
   "source": [
    "## Create an interactive map"
   ]
  },
  {
   "cell_type": "code",
   "execution_count": null,
   "metadata": {
    "id": "L-CTJwEAvYB0"
   },
   "outputs": [],
   "source": [
    "Map = geemap.Map()"
   ]
  },
  {
   "cell_type": "markdown",
   "metadata": {
    "id": "ECKnyMyvw6wa"
   },
   "source": [
    "## Add Earth Engine data"
   ]
  },
  {
   "cell_type": "code",
   "execution_count": null,
   "metadata": {
    "id": "1b8yWFIFvfaZ",
    "outputId": "14159c18-d7c5-4439-9b7b-560ab12e2837"
   },
   "outputs": [],
   "source": [
    "# Add Earth Engine dataset\n",
    "image = ee.Image('USGS/SRTMGL1_003')\n",
    "\n",
    "# Set visualization parameters.\n",
    "vis_params = {\n",
    "    'min': 0,\n",
    "    'max': 4000,\n",
    "    'palette': ['006633', 'E5FFCC', '662A00', 'D8D8D8', 'F5F5F5'],\n",
    "}\n",
    "\n",
    "# Print the elevation of Mount Everest.\n",
    "xy = ee.Geometry.Point([86.9250, 27.9881])\n",
    "elev = image.sample(xy, 30).first().get('elevation').getInfo()\n",
    "print('Mount Everest elevation (m):', elev)\n",
    "\n",
    "# Add Earth Engine layers to Map\n",
    "Map.addLayer(image, vis_params, 'DEM')\n",
    "Map.addLayer(xy, {'color': 'red'}, 'Mount Everest')\n",
    "\n",
    "# Center the map based on an Earth Engine object or coordinates (longitude, latitude)\n",
    "# Map.centerObject(xy, 4)\n",
    "Map.setCenter(86.9250, 27.9881, 4)"
   ]
  },
  {
   "cell_type": "markdown",
   "metadata": {
    "id": "At6VGzwlxNGb"
   },
   "source": [
    "## Display the map"
   ]
  },
  {
   "cell_type": "code",
   "execution_count": null,
   "metadata": {
    "colab": {
     "referenced_widgets": [
      "96d752e00aa04af68221f68e6f792ac3"
     ]
    },
    "id": "IlO11sRAYKCu",
    "outputId": "febef5db-bb6a-412f-8b25-8f4efbcab418"
   },
   "outputs": [],
   "source": [
    "Map"
   ]
  }
 ],
 "metadata": {
  "colab": {
   "name": "geemap_colab.ipynb",
   "provenance": []
  },
  "kernelspec": {
   "display_name": "Python 3",
   "language": "python",
   "name": "python3"
  },
  "language_info": {
   "codemirror_mode": {
    "name": "ipython",
    "version": 3
   },
   "file_extension": ".py",
   "mimetype": "text/x-python",
   "name": "python",
   "nbconvert_exporter": "python",
   "pygments_lexer": "ipython3",
   "version": "3.9.12"
  }
 },
 "nbformat": 4,
 "nbformat_minor": 4
}
